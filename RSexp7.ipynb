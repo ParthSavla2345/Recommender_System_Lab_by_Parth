{
  "nbformat": 4,
  "nbformat_minor": 0,
  "metadata": {
    "colab": {
      "provenance": []
    },
    "kernelspec": {
      "name": "python3",
      "display_name": "Python 3"
    },
    "language_info": {
      "name": "python"
    }
  },
  "cells": [
    {
      "cell_type": "code",
      "execution_count": null,
      "metadata": {
        "colab": {
          "base_uri": "https://localhost:8080/"
        },
        "id": "bM6IHEoOe-n9",
        "outputId": "8594805a-200b-4366-8aa5-111182ae6cfa"
      },
      "outputs": [
        {
          "output_type": "stream",
          "name": "stdout",
          "text": [
            "   user  item                                              title  rating\n",
            "0   298   474  Dr. Strangelove or: How I Learned to Stop Worr...       4\n",
            "1   253   465                            Jungle Book, The (1994)       5\n",
            "2   286  1014      Romy and Michele's High School Reunion (1997)       5\n",
            "3   200   222                    Star Trek: First Contact (1996)       5\n",
            "4   122   387                       Age of Innocence, The (1993)       5\n",
            "5   291  1042                                  Just Cause (1995)       4\n",
            "6   119   392                     Man Without a Face, The (1993)       4\n",
            "7   167   486                                     Sabrina (1954)       4\n",
            "8   299   144                                    Die Hard (1988)       4\n",
            "9   308     1                                   Toy Story (1995)       4\n"
          ]
        }
      ],
      "source": [
        "import pandas as pd\n",
        "data = pd.read_csv('u.data', sep='\\t', names=['user', 'item', 'rating', 'timestamp'])\n",
        "movies = pd.read_csv('u.item', sep='|', encoding='latin-1', header=None, usecols=[0, 1], names=['item', 'title'])\n",
        "data = data[data['rating'] >= 4]\n",
        "user_counts = data['user'].value_counts()\n",
        "warm_users = user_counts[user_counts > 0].index\n",
        "data = data[data['user'].isin(warm_users)]\n",
        "merged = pd.merge(data, movies, on='item')\n",
        "print(merged[['user', 'item', 'title', 'rating']].head(10))"
      ]
    },
    {
      "cell_type": "code",
      "source": [
        "import numpy as np\n",
        "\n",
        "users = data['user'].unique()\n",
        "items = data['item'].unique()\n",
        "user_map = {u: i for i, u in enumerate(users)}\n",
        "item_map = {i: j for j, i in enumerate(items)}\n",
        "data['user_id'] = data['user'].map(user_map)\n",
        "data['item_id'] = data['item'].map(item_map)\n",
        "num_users = len(users)\n",
        "num_items = len(items)\n",
        "print(f\"Number of users: {num_users}, Number of items: {num_items}\")"
      ],
      "metadata": {
        "colab": {
          "base_uri": "https://localhost:8080/"
        },
        "id": "76UIKMBTgFax",
        "outputId": "8c8deb59-5c10-4e93-a9d0-6b3c20369d51"
      },
      "execution_count": null,
      "outputs": [
        {
          "output_type": "stream",
          "name": "stdout",
          "text": [
            "Number of users: 942, Number of items: 1447\n"
          ]
        }
      ]
    },
    {
      "cell_type": "code",
      "source": [
        "user_positive_items = data.groupby('user_id')['item_id'].apply(set).to_dict()\n",
        "assert all(len(items) > 0 for items in user_positive_items.values())\n",
        "print(f\"Sample user 0 positive items: {user_positive_items[0]}\")"
      ],
      "metadata": {
        "colab": {
          "base_uri": "https://localhost:8080/"
        },
        "id": "BmuI6f6hgFd5",
        "outputId": "53285f70-7bde-48e1-82a0-37caaeb05f03"
      },
      "execution_count": null,
      "outputs": [
        {
          "output_type": "stream",
          "name": "stdout",
          "text": [
            "Sample user 0 positive items: {0, 1, 8, 9, 13, 14, 15, 17, 28, 29, 31, 32, 37, 42, 47, 53, 55, 57, 59, 60, 61, 62, 68, 70, 71, 77, 597, 603, 91, 95, 101, 104, 110, 624, 114, 115, 120, 645, 137, 143, 145, 146, 661, 149, 151, 157, 677, 166, 167, 169, 172, 178, 183, 190, 191, 710, 202, 204, 207, 212, 215, 216, 218, 732, 222, 236, 754, 256, 257, 264, 275, 276, 321, 838, 340, 344, 348, 361, 367, 390, 392, 404, 409, 426, 430, 448, 465, 989, 495, 497, 500}\n"
          ]
        }
      ]
    },
    {
      "cell_type": "code",
      "source": [
        "np.random.seed(42)\n",
        "\n",
        "latent_factors = 20\n",
        "learning_rate = 0.01\n",
        "reg = 0.01\n",
        "epochs = 20\n",
        "user_factors = np.random.normal(0, 0.1, size=(num_users, latent_factors))\n",
        "item_factors = np.random.normal(0, 0.1, size=(num_items, latent_factors))\n",
        "print(f\"user_factors shape: {user_factors.shape}, item_factors shape: {item_factors.shape}\")"
      ],
      "metadata": {
        "colab": {
          "base_uri": "https://localhost:8080/"
        },
        "id": "Bxqocpu1gFhQ",
        "outputId": "17089bb5-23ab-405f-c170-08f296be7613"
      },
      "execution_count": null,
      "outputs": [
        {
          "output_type": "stream",
          "name": "stdout",
          "text": [
            "user_factors shape: (942, 20), item_factors shape: (1447, 20)\n"
          ]
        }
      ]
    },
    {
      "cell_type": "code",
      "source": [
        "import random\n",
        "\n",
        "def sample_triplet():\n",
        "    u = random.randint(0, num_users - 1)\n",
        "    i = random.choice(list(user_positive_items[u]))\n",
        "    j = random.randint(0, num_items - 1)\n",
        "    while j in user_positive_items[u]:\n",
        "        j = random.randint(0, num_items - 1)\n",
        "    return u, i, j\n",
        "\n",
        "u, i, j = sample_triplet()\n",
        "print(f\"Sampled triplet: user {u}, positive item {i}, negative item {j}\")\n"
      ],
      "metadata": {
        "colab": {
          "base_uri": "https://localhost:8080/"
        },
        "id": "fRq0n_eYgFkf",
        "outputId": "8337d2f5-7a16-48f1-e798-c00712fafcd9"
      },
      "execution_count": null,
      "outputs": [
        {
          "output_type": "stream",
          "name": "stdout",
          "text": [
            "Sampled triplet: user 209, positive item 440, negative item 111\n"
          ]
        }
      ]
    },
    {
      "cell_type": "code",
      "source": [
        "def stable_sigmoid(x):\n",
        "    x = np.clip(x, -20, 20)\n",
        "    return 1.0 / (1.0 + np.exp(x))\n",
        "\n",
        "print(stable_sigmoid(0))    # Should be 0.5\n",
        "print(stable_sigmoid(100))  # Should be close to 0\n",
        "print(stable_sigmoid(-100)) # Should be close to 1"
      ],
      "metadata": {
        "colab": {
          "base_uri": "https://localhost:8080/"
        },
        "id": "6H9w2CWDgL4s",
        "outputId": "e168c49b-5ce8-4d91-b483-b45fa0d435f8"
      },
      "execution_count": null,
      "outputs": [
        {
          "output_type": "stream",
          "name": "stdout",
          "text": [
            "0.5\n",
            "2.0611536181902037e-09\n",
            "0.9999999979388463\n"
          ]
        }
      ]
    },
    {
      "cell_type": "code",
      "source": [
        "def bpr_update(u, i, j):\n",
        "    x_ui = np.dot(user_factors[u], item_factors[i])\n",
        "    x_uj = np.dot(user_factors[u], item_factors[j])\n",
        "    x_uij = x_ui - x_uj\n",
        "\n",
        "    s = stable_sigmoid(x_uij)\n",
        "\n",
        "    pu = user_factors[u].copy()\n",
        "\n",
        "    user_factors[u] += learning_rate * (s * (item_factors[i] - item_factors[j]) - reg * user_factors[u])\n",
        "    item_factors[i] += learning_rate * (s * pu - reg * item_factors[i])\n",
        "    item_factors[j] += learning_rate * (-s * pu - reg * item_factors[j])\n"
      ],
      "metadata": {
        "id": "IESwDhOWgL7k"
      },
      "execution_count": null,
      "outputs": []
    },
    {
      "cell_type": "code",
      "source": [
        "for epoch in range(epochs):\n",
        "    for _ in range(len(data)):\n",
        "        u, i, j = sample_triplet()\n",
        "        bpr_update(u, i, j)\n",
        "    print(f\"Epoch {epoch + 1}/{epochs} completed\")\n"
      ],
      "metadata": {
        "colab": {
          "base_uri": "https://localhost:8080/"
        },
        "id": "b7xGoO5kgPUl",
        "outputId": "b68ae08e-92ef-47f8-df85-6b7f6719dd37"
      },
      "execution_count": null,
      "outputs": [
        {
          "output_type": "stream",
          "name": "stdout",
          "text": [
            "Epoch 1/20 completed\n",
            "Epoch 2/20 completed\n",
            "Epoch 3/20 completed\n",
            "Epoch 4/20 completed\n",
            "Epoch 5/20 completed\n",
            "Epoch 6/20 completed\n",
            "Epoch 7/20 completed\n",
            "Epoch 8/20 completed\n",
            "Epoch 9/20 completed\n",
            "Epoch 10/20 completed\n",
            "Epoch 11/20 completed\n",
            "Epoch 12/20 completed\n",
            "Epoch 13/20 completed\n",
            "Epoch 14/20 completed\n",
            "Epoch 15/20 completed\n",
            "Epoch 16/20 completed\n",
            "Epoch 17/20 completed\n",
            "Epoch 18/20 completed\n",
            "Epoch 19/20 completed\n",
            "Epoch 20/20 completed\n"
          ]
        }
      ]
    },
    {
      "cell_type": "code",
      "source": [
        "def recommend(user_raw_id, top_k=5):\n",
        "    if user_raw_id not in user_map:\n",
        "        print(f\"User {user_raw_id} not found.\")\n",
        "        return\n",
        "\n",
        "    u = user_map[user_raw_id]\n",
        "    scores = item_factors @ user_factors[u]\n",
        "\n",
        "    known_items = user_positive_items[u]\n",
        "    scores_filtered = [(item_id, score) for item_id, score in enumerate(scores) if item_id not in known_items]\n",
        "    top_items = sorted(scores_filtered, key=lambda x: x[1], reverse=True)[:top_k]\n",
        "    top_raw_ids = [items[item[0]] for item in top_items]\n",
        "    top_titles = movies[movies['item'].isin(top_raw_ids)][['item', 'title']]\n",
        "    top_titles['rank'] = top_titles['item'].apply(lambda x: top_raw_ids.index(x))\n",
        "    top_titles = top_titles.sort_values('rank')\n",
        "\n",
        "    print(f\"Top {top_k} recommendations for user {user_raw_id}:\")\n",
        "    for row in top_titles.itertuples():\n",
        "        print(f\"{row.item}. {row.title}\")\n",
        "recommend(1, top_k=5)"
      ],
      "metadata": {
        "colab": {
          "base_uri": "https://localhost:8080/"
        },
        "id": "EkeDEssMgXdr",
        "outputId": "9fbf71bc-71dc-4b1d-eaad-e700155fbaf6"
      },
      "execution_count": null,
      "outputs": [
        {
          "output_type": "stream",
          "name": "stdout",
          "text": [
            "Top 5 recommendations for user 1:\n",
            "318. Schindler's List (1993)\n",
            "357. One Flew Over the Cuckoo's Nest (1975)\n",
            "237. Jerry Maguire (1996)\n",
            "603. Rear Window (1954)\n",
            "483. Casablanca (1942)\n"
          ]
        }
      ]
    }
  ]
}