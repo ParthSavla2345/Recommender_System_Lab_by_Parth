{
  "nbformat": 4,
  "nbformat_minor": 0,
  "metadata": {
    "colab": {
      "provenance": []
    },
    "kernelspec": {
      "name": "python3",
      "display_name": "Python 3"
    },
    "language_info": {
      "name": "python"
    }
  },
  "cells": [
    {
      "cell_type": "code",
      "execution_count": 1,
      "metadata": {
        "id": "8xTQyxKE_yGO"
      },
      "outputs": [],
      "source": [
        "import numpy as np\n",
        "from collections import defaultdict"
      ]
    },
    {
      "cell_type": "code",
      "source": [
        "class SVDpp:\n",
        "    def __init__(self, num_users, num_items, num_factors=20, lr=0.005, reg=0.02, epochs=10, seed=42):\n",
        "        self.num_users = num_users\n",
        "        self.num_items = num_items\n",
        "        self.num_factors = num_factors\n",
        "        self.lr = lr\n",
        "        self.reg = reg\n",
        "        self.epochs = epochs\n",
        "        self.seed = seed\n",
        "\n",
        "        np.random.seed(self.seed)  # 🔐 Ensures consistent results\n",
        "\n",
        "        self.mu = 0  # Global mean\n",
        "\n",
        "        # Biases\n",
        "        self.bu = np.zeros(num_users)\n",
        "        self.bi = np.zeros(num_items)\n",
        "\n",
        "        # Latent factor matrices\n",
        "        self.pu = np.random.normal(0, 0.1, (num_users, num_factors))\n",
        "        self.qi = np.random.normal(0, 0.1, (num_items, num_factors))\n",
        "        self.yj = np.random.normal(0, 0.1, (num_items, num_factors))\n",
        "\n",
        "        self.user_rated_items = defaultdict(set)\n",
        "\n",
        "    def fit(self, ratings):\n",
        "        self.mu = np.mean([r for (_, _, r) in ratings])\n",
        "\n",
        "        for u, i, _ in ratings:\n",
        "            self.user_rated_items[u].add(i)\n",
        "\n",
        "        for epoch in range(self.epochs):\n",
        "            for u, i, r_ui in ratings:\n",
        "                rated_items = self.user_rated_items[u]\n",
        "                sqrt_Nu = np.sqrt(len(rated_items)) if rated_items else 1.0\n",
        "\n",
        "                sum_y = np.sum(self.yj[list(rated_items)], axis=0) if rated_items else np.zeros(self.num_factors)\n",
        "                sum_y /= sqrt_Nu\n",
        "\n",
        "                dot = np.dot(self.qi[i], self.pu[u] + sum_y)\n",
        "                r_hat = self.mu + self.bu[u] + self.bi[i] + dot\n",
        "                e_ui = r_ui - r_hat\n",
        "\n",
        "                self.bu[u] += self.lr * (e_ui - self.reg * self.bu[u])\n",
        "                self.bi[i] += self.lr * (e_ui - self.reg * self.bi[i])\n",
        "\n",
        "                pu_old = self.pu[u].copy()\n",
        "                qi_old = self.qi[i].copy()\n",
        "\n",
        "                self.qi[i] += self.lr * (e_ui * (pu_old + sum_y) - self.reg * qi_old)\n",
        "                self.pu[u] += self.lr * (e_ui * qi_old - self.reg * pu_old)\n",
        "\n",
        "                for j in rated_items:\n",
        "                    self.yj[j] += self.lr * (e_ui * qi_old / sqrt_Nu - self.reg * self.yj[j])\n",
        "\n",
        "            print(f\"Epoch {epoch + 1}/{self.epochs} completed.\")\n",
        "\n",
        "    def predict(self, u, i):\n",
        "        rated_items = self.user_rated_items[u]\n",
        "        sqrt_Nu = np.sqrt(len(rated_items)) if rated_items else 1.0\n",
        "\n",
        "        sum_y = np.sum(self.yj[list(rated_items)], axis=0) if rated_items else np.zeros(self.num_factors)\n",
        "        sum_y /= sqrt_Nu\n",
        "\n",
        "        dot = np.dot(self.qi[i], self.pu[u] + sum_y)\n",
        "        r_hat = self.mu + self.bu[u] + self.bi[i] + dot\n",
        "        return r_hat\n",
        "\n",
        "    def predict_batch(self, user_item_pairs):\n",
        "        return [self.predict(u, i) for u, i in user_item_pairs]\n"
      ],
      "metadata": {
        "id": "6n7uF4ReAE7a"
      },
      "execution_count": 2,
      "outputs": []
    },
    {
      "cell_type": "code",
      "source": [
        "ratings = [\n",
        "    (0, 0, 5), (0, 1, 3),\n",
        "    (1, 0, 4), (1, 2, 2),\n",
        "    (2, 1, 4), (2, 2, 5),\n",
        "]\n",
        "\n",
        "num_users = 3\n",
        "num_items = 3\n"
      ],
      "metadata": {
        "id": "Buw2kP20AE-S"
      },
      "execution_count": 3,
      "outputs": []
    },
    {
      "cell_type": "code",
      "source": [
        "model = SVDpp(num_users, num_items, epochs=10, seed=42)\n",
        "model.fit(ratings)\n",
        "predicted_rating = model.predict(0, 2)\n",
        "print(f\"\\nPredicted rating for user 0 on item 2: {predicted_rating:.3f}\")"
      ],
      "metadata": {
        "colab": {
          "base_uri": "https://localhost:8080/"
        },
        "id": "l9d6hrCNB8cJ",
        "outputId": "bf15dabf-8d26-447e-85dc-87d673fe16df"
      },
      "execution_count": 4,
      "outputs": [
        {
          "output_type": "stream",
          "name": "stdout",
          "text": [
            "Epoch 1/10 completed.\n",
            "Epoch 2/10 completed.\n",
            "Epoch 3/10 completed.\n",
            "Epoch 4/10 completed.\n",
            "Epoch 5/10 completed.\n",
            "Epoch 6/10 completed.\n",
            "Epoch 7/10 completed.\n",
            "Epoch 8/10 completed.\n",
            "Epoch 9/10 completed.\n",
            "Epoch 10/10 completed.\n",
            "\n",
            "Predicted rating for user 0 on item 2: 3.748\n"
          ]
        }
      ]
    },
    {
      "cell_type": "code",
      "source": [
        "rating_values = [r for (_, _, r) in ratings]\n",
        "# Calculate the global average\n",
        "global_avg = sum(rating_values) / len(rating_values)\n",
        "print(f\"Global average rating: {global_avg:.3f}\")"
      ],
      "metadata": {
        "colab": {
          "base_uri": "https://localhost:8080/"
        },
        "id": "YumpwVBxD56q",
        "outputId": "136aa7bf-f80f-4d8d-a3a7-5f5083946234"
      },
      "execution_count": 5,
      "outputs": [
        {
          "output_type": "stream",
          "name": "stdout",
          "text": [
            "Global average rating: 3.833\n"
          ]
        }
      ]
    }
  ]
}